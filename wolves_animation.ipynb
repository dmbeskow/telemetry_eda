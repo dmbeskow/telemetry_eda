{
 "cells": [
  {
   "cell_type": "markdown",
   "id": "c0519940-f78e-42d9-be16-454f7084b486",
   "metadata": {},
   "source": [
    "# Import Data from movebank.org\n",
    "\n",
    "In this case we downloaded data on 43 wolves from Movebank.org that we will use to analyze for a science project.  In our case we studied seasonal variations in wolve movement.  \n",
    "\n",
    "Before studying the data, we created the scripts below to help understand the data.  We used it to answer"
   ]
  },
  {
   "cell_type": "code",
   "execution_count": 2,
   "id": "dc6111a1-c67f-4815-8cb3-dfdf2178c8ce",
   "metadata": {},
   "outputs": [
    {
     "name": "stderr",
     "output_type": "stream",
     "text": [
      "/var/folders/vy/5trn1pl97cb26ytv3ypqd8840000gn/T/ipykernel_75163/3964664412.py:4: DtypeWarning: Columns (11) have mixed types. Specify dtype option on import or set low_memory=False.\n",
      "  df = pd.read_csv('wolves.csv')\n"
     ]
    },
    {
     "data": {
      "text/html": [
       "<div>\n",
       "<style scoped>\n",
       "    .dataframe tbody tr th:only-of-type {\n",
       "        vertical-align: middle;\n",
       "    }\n",
       "\n",
       "    .dataframe tbody tr th {\n",
       "        vertical-align: top;\n",
       "    }\n",
       "\n",
       "    .dataframe thead th {\n",
       "        text-align: right;\n",
       "    }\n",
       "</style>\n",
       "<table border=\"1\" class=\"dataframe\">\n",
       "  <thead>\n",
       "    <tr style=\"text-align: right;\">\n",
       "      <th></th>\n",
       "      <th>event-id</th>\n",
       "      <th>visible</th>\n",
       "      <th>timestamp</th>\n",
       "      <th>location-long</th>\n",
       "      <th>location-lat</th>\n",
       "      <th>external-temperature</th>\n",
       "      <th>gps:dop</th>\n",
       "      <th>height-raw</th>\n",
       "      <th>sensor-type</th>\n",
       "      <th>individual-taxon-canonical-name</th>\n",
       "      <th>tag-local-identifier</th>\n",
       "      <th>individual-local-identifier</th>\n",
       "      <th>study-name</th>\n",
       "    </tr>\n",
       "  </thead>\n",
       "  <tbody>\n",
       "    <tr>\n",
       "      <th>0</th>\n",
       "      <td>9710294924</td>\n",
       "      <td>True</td>\n",
       "      <td>2013-12-19 00:00:44.000</td>\n",
       "      <td>-111.990073</td>\n",
       "      <td>57.212889</td>\n",
       "      <td>-22.0</td>\n",
       "      <td>2.6</td>\n",
       "      <td>350.59</td>\n",
       "      <td>gps</td>\n",
       "      <td>Canis lupus</td>\n",
       "      <td>13791</td>\n",
       "      <td>13791</td>\n",
       "      <td>Boutin Alberta Grey Wolf</td>\n",
       "    </tr>\n",
       "    <tr>\n",
       "      <th>1</th>\n",
       "      <td>9710294925</td>\n",
       "      <td>True</td>\n",
       "      <td>2013-12-19 12:00:45.000</td>\n",
       "      <td>-112.043078</td>\n",
       "      <td>57.211016</td>\n",
       "      <td>-8.0</td>\n",
       "      <td>1.6</td>\n",
       "      <td>335.05</td>\n",
       "      <td>gps</td>\n",
       "      <td>Canis lupus</td>\n",
       "      <td>13791</td>\n",
       "      <td>13791</td>\n",
       "      <td>Boutin Alberta Grey Wolf</td>\n",
       "    </tr>\n",
       "    <tr>\n",
       "      <th>2</th>\n",
       "      <td>9710294926</td>\n",
       "      <td>True</td>\n",
       "      <td>2013-12-20 00:00:44.000</td>\n",
       "      <td>-112.105655</td>\n",
       "      <td>57.260090</td>\n",
       "      <td>-5.0</td>\n",
       "      <td>1.8</td>\n",
       "      <td>409.08</td>\n",
       "      <td>gps</td>\n",
       "      <td>Canis lupus</td>\n",
       "      <td>13791</td>\n",
       "      <td>13791</td>\n",
       "      <td>Boutin Alberta Grey Wolf</td>\n",
       "    </tr>\n",
       "    <tr>\n",
       "      <th>3</th>\n",
       "      <td>9710294927</td>\n",
       "      <td>True</td>\n",
       "      <td>2013-12-20 12:00:44.000</td>\n",
       "      <td>-112.105336</td>\n",
       "      <td>57.261037</td>\n",
       "      <td>-12.0</td>\n",
       "      <td>1.6</td>\n",
       "      <td>414.98</td>\n",
       "      <td>gps</td>\n",
       "      <td>Canis lupus</td>\n",
       "      <td>13791</td>\n",
       "      <td>13791</td>\n",
       "      <td>Boutin Alberta Grey Wolf</td>\n",
       "    </tr>\n",
       "    <tr>\n",
       "      <th>4</th>\n",
       "      <td>9710294928</td>\n",
       "      <td>True</td>\n",
       "      <td>2013-12-21 00:00:44.000</td>\n",
       "      <td>-112.105630</td>\n",
       "      <td>57.260091</td>\n",
       "      <td>-9.0</td>\n",
       "      <td>1.8</td>\n",
       "      <td>416.13</td>\n",
       "      <td>gps</td>\n",
       "      <td>Canis lupus</td>\n",
       "      <td>13791</td>\n",
       "      <td>13791</td>\n",
       "      <td>Boutin Alberta Grey Wolf</td>\n",
       "    </tr>\n",
       "  </tbody>\n",
       "</table>\n",
       "</div>"
      ],
      "text/plain": [
       "     event-id  visible                timestamp  location-long  location-lat  \\\n",
       "0  9710294924     True  2013-12-19 00:00:44.000    -111.990073     57.212889   \n",
       "1  9710294925     True  2013-12-19 12:00:45.000    -112.043078     57.211016   \n",
       "2  9710294926     True  2013-12-20 00:00:44.000    -112.105655     57.260090   \n",
       "3  9710294927     True  2013-12-20 12:00:44.000    -112.105336     57.261037   \n",
       "4  9710294928     True  2013-12-21 00:00:44.000    -112.105630     57.260091   \n",
       "\n",
       "   external-temperature  gps:dop  height-raw sensor-type  \\\n",
       "0                 -22.0      2.6      350.59         gps   \n",
       "1                  -8.0      1.6      335.05         gps   \n",
       "2                  -5.0      1.8      409.08         gps   \n",
       "3                 -12.0      1.6      414.98         gps   \n",
       "4                  -9.0      1.8      416.13         gps   \n",
       "\n",
       "  individual-taxon-canonical-name  tag-local-identifier  \\\n",
       "0                     Canis lupus                 13791   \n",
       "1                     Canis lupus                 13791   \n",
       "2                     Canis lupus                 13791   \n",
       "3                     Canis lupus                 13791   \n",
       "4                     Canis lupus                 13791   \n",
       "\n",
       "  individual-local-identifier                study-name  \n",
       "0                       13791  Boutin Alberta Grey Wolf  \n",
       "1                       13791  Boutin Alberta Grey Wolf  \n",
       "2                       13791  Boutin Alberta Grey Wolf  \n",
       "3                       13791  Boutin Alberta Grey Wolf  \n",
       "4                       13791  Boutin Alberta Grey Wolf  "
      ]
     },
     "execution_count": 2,
     "metadata": {},
     "output_type": "execute_result"
    }
   ],
   "source": [
    "import pandas as pd\n",
    "import folium\n",
    "\n",
    "df = pd.read_csv('wolves.csv')\n",
    "df.head()"
   ]
  },
  {
   "cell_type": "code",
   "execution_count": 3,
   "id": "dc181d0e-bdda-42c3-852b-94f85078079b",
   "metadata": {},
   "outputs": [
    {
     "data": {
      "text/plain": [
       "array([13791, 13790, 13793, 13792, 13794, 33677, 15009, 15008, 33670,\n",
       "       32268, 32269, 33669, 33668, 32260, 32262, 32264, 32265, 32266,\n",
       "       32267, 35260, 33667, 33681, 33680, 33671, 32251, 33679, 32253,\n",
       "       32252, 32255, 32254, 32257, 32256, 32259, 32258, 33672, 33673,\n",
       "       33674, 33675, 33676, 32270, 33678, 32261, 32263])"
      ]
     },
     "execution_count": 3,
     "metadata": {},
     "output_type": "execute_result"
    }
   ],
   "source": [
    "df['tag-local-identifier'].unique()"
   ]
  },
  {
   "cell_type": "code",
   "execution_count": 1,
   "id": "55faf1a4-7579-4919-a645-72fa8c583736",
   "metadata": {},
   "outputs": [
    {
     "ename": "NameError",
     "evalue": "name 'df' is not defined",
     "output_type": "error",
     "traceback": [
      "\u001b[1;31m---------------------------------------------------------------------------\u001b[0m",
      "\u001b[1;31mNameError\u001b[0m                                 Traceback (most recent call last)",
      "\u001b[1;32m~\\AppData\\Local\\Temp\\ipykernel_23524\\2923901123.py\u001b[0m in \u001b[0;36m<module>\u001b[1;34m\u001b[0m\n\u001b[1;32m----> 1\u001b[1;33m \u001b[0mdf\u001b[0m\u001b[1;33m[\u001b[0m\u001b[1;34m'tag-local-identifier'\u001b[0m\u001b[1;33m]\u001b[0m\u001b[1;33m.\u001b[0m\u001b[0mnunique\u001b[0m\u001b[1;33m(\u001b[0m\u001b[1;33m)\u001b[0m\u001b[1;33m\u001b[0m\u001b[1;33m\u001b[0m\u001b[0m\n\u001b[0m",
      "\u001b[1;31mNameError\u001b[0m: name 'df' is not defined"
     ]
    }
   ],
   "source": [
    "df['tag-local-identifier'].nunique()"
   ]
  },
  {
   "cell_type": "code",
   "execution_count": 4,
   "id": "605c9db1-f339-40f0-96ed-40647bf17151",
   "metadata": {},
   "outputs": [
    {
     "data": {
      "text/plain": [
       "(5531, 13)"
      ]
     },
     "execution_count": 4,
     "metadata": {},
     "output_type": "execute_result"
    }
   ],
   "source": [
    "wolf1 = df[df['tag-local-identifier'] == 13790]\n",
    "wolf1.shape"
   ]
  },
  {
   "cell_type": "markdown",
   "id": "d6764b19-2593-4864-b615-9b2076386061",
   "metadata": {},
   "source": [
    "# Create basic folium Visualization\n",
    "\n",
    "We next create a basic visualization with the Folium package.  "
   ]
  },
  {
   "cell_type": "code",
   "execution_count": null,
   "id": "cd9dd72b-3794-455d-a132-99351dfe3965",
   "metadata": {},
   "outputs": [],
   "source": [
    "import folium\n",
    "m = folium.Map(location=[57.212889,-111.990073], zoom_start=12, tiles=\"Stamen Terrain\")\n",
    "\n",
    "# add marker one by one on the map\n",
    "for i in range(0,len(wolf1)):\n",
    "   folium.Circle(\n",
    "      location=[wolf1.iloc[i]['location-lat'], wolf1.iloc[i]['location-long']],\n",
    "      popup=wolf1.iloc[i]['timestamp'],\n",
    "   ).add_to(m)\n",
    "# Show the map again\n",
    "m"
   ]
  },
  {
   "cell_type": "markdown",
   "id": "bf41e923-a7cd-46ec-8ffe-821c4df14300",
   "metadata": {},
   "source": [
    "#  Color telemetry points by wolf\n",
    "\n",
    "The next visualization will give each wolf a unique color and color the points with this color.  \n",
    "\n",
    "This visualization allows us to analyze the range and overlap of each wolf's habitat.  \n",
    "\n",
    "Note that this function will save the result to an html file in the working directory. "
   ]
  },
  {
   "cell_type": "code",
   "execution_count": null,
   "id": "2e9ade22-d339-485e-a8ff-275d3fea0df6",
   "metadata": {},
   "outputs": [],
   "source": [
    "number_of_colors = 42\n",
    "\n",
    "colors = [\"#\"+''.join([random.choice('0123456789ABCDEF') for j in range(6)])\n",
    "             for i in range(number_of_colors)]\n",
    "\n",
    "# colors = ['#C7980A', '#F4651F', '#82D8A7', '#CC3A05', '#575E76', '#156943', '#0BD055', '#ACD338']\n",
    "\n",
    "wolves = df['tag-local-identifier'].unique()[:41].tolist()\n",
    "\n",
    "m = folium.Map(location=[57.212889,-111.990073], zoom_start=12, tiles=\"Stamen Terrain\")\n",
    "\n",
    "for wolf,color in zip(wolves, colors):\n",
    "    wolf1 = df[df['tag-local-identifier'] == wolf]\n",
    "    for i in range(0,len(wolf1)):\n",
    "       folium.Circle(\n",
    "          location=[wolf1.iloc[i]['location-lat'], wolf1.iloc[i]['location-long']],\n",
    "          popup=wolf1.iloc[i]['timestamp'],\n",
    "            color = color\n",
    "       ).add_to(m)\n",
    "\n",
    "# Show the map again\n",
    "m.save('all_points.html')\n",
    "# m"
   ]
  },
  {
   "cell_type": "markdown",
   "id": "e830220a-41f6-4968-9740-6d433860b5bb",
   "metadata": {},
   "source": [
    "# Clustering Points\n",
    "\n",
    "Sometimes the points can become too crowded.  Clustering points can help with this.  \n",
    "\n",
    "The following function clusters the points and once again save it to an html file in the working directory. "
   ]
  },
  {
   "cell_type": "code",
   "execution_count": null,
   "id": "4981b3ca-ab54-45f6-bf0d-125cbc190a6b",
   "metadata": {},
   "outputs": [],
   "source": [
    "from folium.plugins import MarkerCluster\n",
    "number_of_colors = 42\n",
    "\n",
    "colors = [\"#\"+''.join([random.choice('0123456789ABCDEF') for j in range(6)])\n",
    "             for i in range(number_of_colors)]\n",
    "\n",
    "# colors = ['#C7980A', '#F4651F', '#82D8A7', '#CC3A05', '#575E76', '#156943', '#0BD055', '#ACD338']\n",
    "\n",
    "wolves = df['tag-local-identifier'].unique()[:41].tolist()\n",
    "\n",
    "m = folium.Map(location=[57.212889,-111.990073], zoom_start=12, tiles=\"Stamen Terrain\")\n",
    "marker_cluster = MarkerCluster().add_to(m)\n",
    "\n",
    "for wolf,color in zip(wolves, colors):\n",
    "    wolf1 = df[df['tag-local-identifier'] == wolf]\n",
    "    for i in range(0,len(wolf1)):\n",
    "       folium.Circle(\n",
    "          location=[wolf1.iloc[i]['location-lat'], wolf1.iloc[i]['location-long']],\n",
    "          popup=wolf1.iloc[i]['timestamp'],\n",
    "            color = color\n",
    "       ).add_to(marker_cluster)\n",
    "\n",
    "# Show the map again\n",
    "m.save('all_points_clustered.html')\n",
    "# m"
   ]
  },
  {
   "cell_type": "markdown",
   "id": "77bcada8-394b-4a9d-8017-a5ee3707b014",
   "metadata": {},
   "source": [
    "#  Geospatial animation of telemetry points\n",
    "\n",
    "This is our main contribution.  This code creates TimestampedGeoJson that allows us to play the data through time.  \n",
    "\n",
    "This code will draw the animal tracks with a line segment between them.  \n",
    "\n",
    "In order not to crowd the display, we've set the data to only stay on the display for 1 Day\n",
    "\n",
    "The resulting animation is once again saved to the working directory.  "
   ]
  },
  {
   "cell_type": "code",
   "execution_count": 2,
   "id": "76d7517d-a3d0-4f2b-8eeb-db966130e5de",
   "metadata": {},
   "outputs": [
    {
     "name": "stderr",
     "output_type": "stream",
     "text": [
      "/var/folders/vy/5trn1pl97cb26ytv3ypqd8840000gn/T/ipykernel_83957/195985195.py:6: DtypeWarning: Columns (11) have mixed types. Specify dtype option on import or set low_memory=False.\n",
      "  df = pd.read_csv('wolves.csv')\n"
     ]
    }
   ],
   "source": [
    "from folium.plugins import TimestampedGeoJson\n",
    "import folium\n",
    "import pandas as pd\n",
    "import random\n",
    "\n",
    "df = pd.read_csv('wolves.csv')\n",
    "\n",
    "number_of_colors = 42\n",
    "\n",
    "colors = [\"#\"+''.join([random.choice('0123456789ABCDEF') for j in range(6)])\n",
    "             for i in range(number_of_colors)]\n",
    "\n",
    "\n",
    "# colors = ['#C7980A', '#F4651F', '#82D8A7', '#CC3A05', '#575E76', '#156943', '#0BD055', '#ACD338']\n",
    "\n",
    "wolves = df['tag-local-identifier'].unique().tolist()\n",
    "# df['timestamp'] = pd.to_datetime(df['timestamp'])\n",
    "df = df.rename(columns = {'location-long':'lon', 'location-lat':'lat'})\n",
    "\n",
    "m = folium.Map(location=[57.212889,-111.990073], zoom_start=12, tiles=\"Stamen Terrain\")\n",
    "\n",
    "lines = []\n",
    "for count,wolf in enumerate(wolves):\n",
    "    temp = df[df['tag-local-identifier'] == wolf].sort_values(by='timestamp')\n",
    "    for i, row in temp.iterrows():\n",
    "        if i == 0:\n",
    "            continue\n",
    "        else:\n",
    "            lines.append(\n",
    "                {\n",
    "                    # 'coordinates': [\n",
    "                    #     [df.iloc[i-1]['lat'], df.iloc[i-1]['lon']],\n",
    "                    #     [row['lat'], row['lon']],\n",
    "                    # ],\n",
    "                     'coordinates': [\n",
    "                        [ df.iloc[i-1]['lon'],df.iloc[i-1]['lat']],\n",
    "                        [ row['lon'], row['lat']],\n",
    "                    ],\n",
    "                    'dates': [\n",
    "                        df.iloc[i-1]['timestamp'],\n",
    "                        df.iloc[i]['timestamp']\n",
    "                    ],\n",
    "                    'color': colors[count-1],\n",
    "                    'popup': df.iloc[i]['tag-local-identifier']\n",
    "                })"
   ]
  },
  {
   "cell_type": "code",
   "execution_count": 4,
   "id": "b21b09ff-382f-466e-860d-1ac4ee5f8ce3",
   "metadata": {
    "scrolled": true,
    "tags": []
   },
   "outputs": [],
   "source": [
    "features = [\n",
    "    {\n",
    "        'type': 'Feature',\n",
    "        'geometry': {\n",
    "            'type': 'LineString',\n",
    "            'coordinates': line['coordinates'],\n",
    "        },\n",
    "        'properties': {\n",
    "            'times': line['dates'],\n",
    "            'popup': str(line['popup']),\n",
    "            'style': {\n",
    "                'color': line['color'],\n",
    "                'weight': 5\n",
    "            }\n",
    "        }\n",
    "    }\n",
    "    for line in lines\n",
    "]\n",
    "\n",
    "TimestampedGeoJson({\n",
    "    'type': 'FeatureCollection',\n",
    "    'features': features,\n",
    "}, period='PT1H', add_last_point=True, duration = 'P1D', transition_time = 200).add_to(m)\n",
    "\n",
    "m.save('wolf_movement_animation.html')\n",
    "# m"
   ]
  }
 ],
 "metadata": {
  "kernelspec": {
   "display_name": "Python 3 (ipykernel)",
   "language": "python",
   "name": "python3"
  },
  "language_info": {
   "codemirror_mode": {
    "name": "ipython",
    "version": 3
   },
   "file_extension": ".py",
   "mimetype": "text/x-python",
   "name": "python",
   "nbconvert_exporter": "python",
   "pygments_lexer": "ipython3",
   "version": "3.10.6"
  }
 },
 "nbformat": 4,
 "nbformat_minor": 5
}
